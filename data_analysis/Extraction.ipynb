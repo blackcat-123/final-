{
 "cells": [
  {
   "cell_type": "markdown",
   "metadata": {},
   "source": []
  },
  {
   "cell_type": "code",
   "execution_count": 1,
   "metadata": {},
   "outputs": [],
   "source": [
    "import re  \n",
    "import pandas as pd"
   ]
  },
  {
   "cell_type": "markdown",
   "metadata": {},
   "source": [
    "# Đọc nội dung text file"
   ]
  },
  {
   "cell_type": "code",
   "execution_count": 2,
   "metadata": {},
   "outputs": [],
   "source": [
    "with open('../dataset/Luat.txt', 'r', encoding='utf-8') as file:\n",
    "    law_text = file.read()"
   ]
  },
  {
   "cell_type": "code",
   "execution_count": 3,
   "metadata": {},
   "outputs": [
    {
     "name": "stdout",
     "output_type": "stream",
     "text": [
      "CHƯƠNG I\n",
      "NHỮNG QUY ĐỊNH CHUNG\n",
      "CHƯƠNG II\n",
      "QUY TẮC GIAO THÔNG ĐƯỜNG BỘ\n",
      "CHƯƠNG III\n",
      "KẾT CẤU HẠ TẦNG GIAO THÔNG ĐƯỜNG BỘ\n",
      "CHƯƠNG IV\n",
      "PHƯƠNG TIỆN THAM GIA GIAO THÔNG ĐƯỜNG BỘ\n",
      "CHƯƠNG V\n",
      "NGƯỜI ĐIỀU KHIỂN PHƯƠNG TIỆN THAM GIA GIAO THÔNG ĐƯỜNG BỘ\n",
      "CHƯƠNG VI\n",
      "VẬN TẢI ĐƯỜNG BỘ\n",
      "CHƯƠNG VII\n",
      "QUẢN LÝ NHÀ NƯỚC VỀ GIAO THÔNG ĐƯỜNG BỘ\n",
      "CHƯƠNG VIII\n",
      "ĐIỀU KHOẢN THI HÀNH\n"
     ]
    }
   ],
   "source": [
    "pattern = r'CHƯƠNG [IVXLCDM]+\\n[^\\n]+'\n",
    "matches = re.findall(pattern, law_text)\n",
    "\n",
    "# Hiển thị các chương đã trích xuất\n",
    "for match in matches:\n",
    "    print(match)"
   ]
  },
  {
   "cell_type": "code",
   "execution_count": 4,
   "metadata": {},
   "outputs": [
    {
     "name": "stdout",
     "output_type": "stream",
     "text": [
      "Tổng số Điều luật: 89\n"
     ]
    }
   ],
   "source": [
    "pattern = r'Điều \\d+\\. [^\\n]+'\n",
    "matches = re.findall(pattern, law_text)\n",
    "\n",
    "# Đếm số lượng điều luật\n",
    "num_laws = len(matches)\n",
    "print(f'Tổng số Điều luật: {num_laws}')"
   ]
  },
  {
   "cell_type": "code",
   "execution_count": 5,
   "metadata": {},
   "outputs": [
    {
     "name": "stdout",
     "output_type": "stream",
     "text": [
      "Hiển thị các Điều luật:\n",
      "Điều 1. Phạm vi điều chỉnh\n",
      "Điều 2. Đối tượng áp dụng\n",
      "Điều 3. Giải thích từ ngữ\n",
      "Điều 4. Nguyên tắc hoạt động giao thông đường bộ\n",
      "Điều 5. Chính sách phát triển giao thông đường bộ\n",
      "Điều 6. Quy hoạch giao thông vận tải đường bộ\n",
      "Điều 7. Tuyên truyền, phổ biến, giáo dục pháp luật về giao thông đường bộ\n",
      "Điều 8. Các hành vi bị nghiêm cấm\n",
      "Điều 9. Quy tắc chung\n",
      "Điều 10. Hệ thống báo hiệu đường bộ\n",
      "Điều 11. Chấp hành báo hiệu đường bộ\n",
      "Điều 12. Tốc độ xe và khoảng cách giữa các xe\n",
      "Điều 13. Sử dụng làn đường\n",
      "Điều 14. Vượt xe \n",
      "Điều 15. Chuyển hướng xe\n",
      "Điều 16. Lùi xe\n",
      "Điều 17. Tránh xe đi ngược chiều\n",
      "Điều 18. Dừng xe, đỗ xe trên đường bộ\n",
      "Điều 19. Dừng xe, đỗ xe trên đường phố\n",
      "Điều 20. Xếp hàng hóa trên phương tiện giao thông đường bộ\n",
      "Điều 21. Trường hợp chở người trên xe ô tô chở hàng\n",
      "Điều 22. Quyền ưu tiên của một số loại xe\n",
      "Điều 23. Qua phà, qua cầu phao\n",
      "Điều 24. Nhường đường tại nơi đường giao nhau\n",
      "Điều 25. Đi trên đoạn đường bộ giao nhau cùng mức với đường sắt, cầu đường bộ đi chung với đường sắt \n",
      "Điều 26. Giao thông trên đường cao tốc\n",
      "Điều 27. Giao thông trong hầm đường bộ\n",
      "Điều 28. Tải trọng và khổ giới hạn của đường bộ\n",
      "Điều 29. Xe kéo xe và xe kéo rơ moóc\n",
      "Điều 30. Người điều khiển, người ngồi trên xe mô tô, xe gắn máy\n",
      "Điều 31. Người điều khiển, người ngồi trên xe đạp, người điều khiển xe thô sơ khác\n",
      "Điều 32. Người đi bộ\n",
      "Điều 33. Người khuyết tật, người già yếu tham gia giao thông\n",
      "Điều 34. Người dẫn dắt súc vật đi trên đường bộ\n",
      "Điều 35. Các hoạt động khác trên đường bộ\n",
      "Điều 36. Sử dụng đường phố và các hoạt động khác trên đường phố \n",
      "Điều 37. Tổ chức giao thông và điều khiển giao thông\n",
      "Điều 38. Trách nhiệm của cá nhân, cơ quan, tổ chức khi xảy ra tai nạn giao thông.\n",
      "Điều 39. Phân loại đường bộ\n",
      "Điều 40. Đặt tên, số hiệu đường bộ\n",
      "Điều 41. Tiêu chuẩn kỹ thuật đường bộ\n",
      "Điều 42. Quỹ đất dành cho kết cấu hạ tầng giao thông đường bộ\n",
      "Điều 43. Phạm vi đất dành cho đường bộ\n",
      "Điều 44. Bảo đảm yêu cầu kỹ thuật và an toàn giao thông của công trình đường bộ\n",
      "Điều 45. Công trình báo hiệu đường bộ \n",
      "Điều 46. Đầu tư xây dựng, khai thác kết cấu hạ tầng giao thông đường bộ \n",
      "Điều 47. Thi công công trình trên đường bộ đang khai thác\n",
      "Điều 48. Quản lý, bảo trì đường bộ \n",
      "Điều 49. Nguồn tài chính cho quản lý, bảo trì đường bộ \n",
      "Điều 50. Xây dựng đoạn đường giao nhau cùng mức giữa đường bộ với đường sắt\n",
      "Điều 51. Bến xe, bãi đỗ xe, trạm dừng nghỉ, trạm kiểm tra tải trọng xe, trạm thu phí đường bộ\n",
      "Điều 52. Bảo vệ kết cấu hạ tầng giao thông đường bộ \n",
      "Điều 53. Điều kiện tham gia giao thông của xe cơ giới\n",
      "Điều 54. Cấp, thu hồi đăng ký và biển số xe cơ giới\n",
      "Điều 55. Bảo đảm quy định về chất lượng an toàn kỹ thuật và bảo vệ môi trường của xe cơ giới tham gia giao thông đường bộ \n",
      "Điều 56. Điều kiện tham gia giao thông của xe thô sơ\n",
      "Điều 57. Điều kiện tham gia giao thông của xe máy chuyên dùng\n",
      "Điều 58. Điều kiện của người lái xe tham gia giao thông\n",
      "Điều 59. Giấy phép lái xe\n",
      "Điều 60. Tuổi, sức khỏe của người lái xe\n",
      "Điều 61. Đào tạo lái xe, sát hạch để cấp giấy phép lái xe\n",
      "Điều 62. Điều kiện của người điều khiển xe máy chuyên dùng tham gia giao thông\n",
      "Điều 63. Điều kiện của người điều khiển xe thô sơ tham gia giao thông \n",
      "Điều 64. Hoạt động vận tải đường bộ\n",
      "Điều 65. Thời gian làm việc của người lái xe ô tô\n",
      "Điều 66. Kinh doanh vận tải bằng xe ô tô\n",
      "Điều 67. Điều kiện kinh doanh vận tải bằng xe ô tô\n",
      "Điều 68. Vận tải hành khách bằng xe ô tô\n",
      "Điều 69. Quyền và nghĩa vụ của người kinh doanh vận tải hành khách \n",
      "Điều 70. Trách nhiệm của người lái xe và nhân viên phục vụ trên xe ô tô vận tải hành khách\n",
      "Điều 71. Quyền và nghĩa vụ của hành khách\n",
      "Điều 72. Vận tải hàng hóa bằng xe ô tô\n",
      "Điều 73. Quyền và nghĩa vụ của người kinh doanh vận tải hàng hóa\n",
      "Điều 74. Quyền và nghĩa vụ của người thuê vận tải hàng hóa\n",
      "Điều 75. Quyền và nghĩa vụ của người nhận hàng\n",
      "Điều 76. Vận chuyển hàng siêu trường, siêu trọng\n",
      "Điều 77. Vận chuyển động vật sống\n",
      "Điều 78. Vận chuyển hàng nguy hiểm\n",
      "Điều 79. Hoạt động vận tải đường bộ trong đô thị\n",
      "Điều 80. Vận chuyển hành khách, hàng hóa bằng xe thô sơ, xe gắn máy, xe mô tô hai bánh, xe mô tô ba bánh và các loại xe tương tự\n",
      "Điều 81. Vận tải đa phương thức\n",
      "Điều 82. Dịch vụ hỗ trợ vận tải đường bộ\n",
      "Điều 83. Tổ chức hoạt động của bến xe ô tô, bãi đỗ xe, trạm dừng nghỉ\n",
      "Điều 84. Nội dung quản lý nhà nước về giao thông đường bộ \n",
      "Điều 85. Trách nhiệm quản lý nhà nước về giao thông đường bộ\n",
      "Điều 86. Thanh tra đường bộ\n",
      "Điều 87. Tuần tra, kiểm soát của cảnh sát giao thông đường bộ \n",
      "Điều 88. Hiệu lực thi hành\n",
      "Điều 89. Quy định chi tiết và hướng dẫn thi hành\n"
     ]
    }
   ],
   "source": [
    "\n",
    "print('Hiển thị các Điều luật:')\n",
    "for match in matches:\n",
    "    print(match)"
   ]
  },
  {
   "cell_type": "markdown",
   "metadata": {},
   "source": [
    "# Trích xuất nội dung Điều luật"
   ]
  },
  {
   "cell_type": "code",
   "execution_count": 6,
   "metadata": {},
   "outputs": [],
   "source": [
    "def extract_law(law_number):\n",
    "    pattern = rf'Điều {law_number}\\..*?(?=Điều \\d+\\.|$)'\n",
    "    match = re.search(pattern, law_text, re.DOTALL)\n",
    "    if match:\n",
    "        return match.group().strip()\n",
    "    else:\n",
    "        return f\"Không tìm thấy Điều luật {law_number}\""
   ]
  },
  {
   "cell_type": "markdown",
   "metadata": {},
   "source": [
    "In ra điều luật cụ thể (1->89)"
   ]
  },
  {
   "cell_type": "code",
   "execution_count": 8,
   "metadata": {},
   "outputs": [
    {
     "name": "stdout",
     "output_type": "stream",
     "text": [
      "Điều 48. Quản lý, bảo trì đường bộ \n",
      "1. Bảo trì đường bộ là thực hiện các công việc bảo dưỡng và sửa chữa đường bộ nhằm duy trì tiêu chuẩn kỹ thuật của đường đang khai thác.\n",
      "2. Đường bộ đưa vào khai thác phải được quản lý, bảo trì với các nội dung sau đây:\n",
      "a) Theo dõi tình trạng công trình đường bộ; tổ chức giao thông; kiểm tra, thanh tra việc bảo vệ kết cấu hạ tầng giao thông đường bộ;\n",
      "b) Bảo dưỡng thường xuyên, sửa chữa định kỳ và sửa chữa đột xuất.\n",
      "3. Trách nhiệm tổ chức quản lý, bảo trì đường bộ quy định như sau:\n",
      "a) Hệ thống quốc lộ do Bộ Giao thông vận tải chịu trách nhiệm;\n",
      "b) Hệ thống đường tỉnh, đường đô thị do Ủy ban nhân dân cấp tỉnh chịu trách nhiệm. Việc quản lý, bảo trì hệ thống đường huyện, đường xã do Ủy ban nhân dân cấp tỉnh quy định;\n",
      "c) Đường chuyên dùng, đường không do Nhà nước quản lý khai thác, đường được đầu tư xây dựng không bằng nguồn vốn từ ngân sách nhà nước do chủ đầu tư tổ chức quản lý, bảo trì theo quy định.\n",
      "4. Bộ trưởng Bộ Giao thông vận tải quy định việc quản lý, bảo trì đường bộ.\n"
     ]
    }
   ],
   "source": [
    "law_number = 48\n",
    "law_content = extract_law(law_number)\n",
    "print(law_content)"
   ]
  }
 ],
 "metadata": {
  "kernelspec": {
   "display_name": "venv",
   "language": "python",
   "name": "python3"
  },
  "language_info": {
   "codemirror_mode": {
    "name": "ipython",
    "version": 3
   },
   "file_extension": ".py",
   "mimetype": "text/x-python",
   "name": "python",
   "nbconvert_exporter": "python",
   "pygments_lexer": "ipython3",
   "version": "3.12.0"
  }
 },
 "nbformat": 4,
 "nbformat_minor": 2
}
